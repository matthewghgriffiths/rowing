{
 "cells": [
  {
   "cell_type": "code",
   "execution_count": 1,
   "metadata": {},
   "outputs": [],
   "source": [
    "%load_ext autoreload\n",
    "%autoreload 2"
   ]
  },
  {
   "cell_type": "code",
   "execution_count": 2,
   "metadata": {},
   "outputs": [],
   "source": [
    "from pathlib import Path \n",
    "import datetime\n",
    "import logging\n",
    "\n",
    "import numpy as np\n",
    "import pandas as pd\n",
    "import matplotlib as mpl \n",
    "import matplotlib.pyplot as plt\n",
    "import matplotlib.patheffects as pe\n",
    "\n",
    "from rowing.analysis import geodesy, files, splits, garmin, utils"
   ]
  },
  {
   "cell_type": "code",
   "execution_count": 3,
   "metadata": {},
   "outputs": [],
   "source": [
    "logging.basicConfig(level=logging.INFO)\n",
    "logging.getLogger().setLevel(logging.INFO)"
   ]
  },
  {
   "cell_type": "code",
   "execution_count": 4,
   "metadata": {},
   "outputs": [],
   "source": [
    "spread = \"https://docs.google.com/spreadsheets/d/1tp0aS5jiKe5Ah-rfYjCKmxQSRo58lvIAGJGosKZMfX0/edit#gid=0\"\n",
    "path = \"garmin-data\"\n",
    "credentials = \"garmin-credentials.json\""
   ]
  },
  {
   "cell_type": "code",
   "execution_count": 5,
   "metadata": {},
   "outputs": [],
   "source": [
    "today = pd.Timestamp.today().date()\n",
    "yesterday = today - pd.Timedelta(\"1d\")"
   ]
  },
  {
   "cell_type": "code",
   "execution_count": 6,
   "metadata": {},
   "outputs": [],
   "source": [
    "self = garmin.GarminClient.from_credentials(\n",
    "    credentials, local_cache=utils.json_cache, path=path\n",
    ").login()"
   ]
  },
  {
   "cell_type": "code",
   "execution_count": 19,
   "metadata": {},
   "outputs": [
    {
     "data": {
      "application/vnd.jupyter.widget-view+json": {
       "model_id": "a808c0c1a910494388480d5e1c68b3dd",
       "version_major": 2,
       "version_minor": 0
      },
      "text/plain": [
       "  0%|          | 0/83 [00:00<?, ?it/s]"
      ]
     },
     "metadata": {},
     "output_type": "display_data"
    },
    {
     "data": {
      "application/vnd.jupyter.widget-view+json": {
       "model_id": "06e787f827984ab99fd7f53d8ce1577f",
       "version_major": 2,
       "version_minor": 0
      },
      "text/plain": [
       "  0%|          | 0/94 [00:00<?, ?it/s]"
      ]
     },
     "metadata": {},
     "output_type": "display_data"
    },
    {
     "data": {
      "application/vnd.jupyter.widget-view+json": {
       "model_id": "35e150e330124039abdd1480cbf62a90",
       "version_major": 2,
       "version_minor": 0
      },
      "text/plain": [
       "  0%|          | 0/94 [00:00<?, ?it/s]"
      ]
     },
     "metadata": {},
     "output_type": "display_data"
    },
    {
     "data": {
      "application/vnd.jupyter.widget-view+json": {
       "model_id": "2af8add1776d4661a569de8f4290c2c6",
       "version_major": 2,
       "version_minor": 0
      },
      "text/plain": [
       "  0%|          | 0/119 [00:00<?, ?it/s]"
      ]
     },
     "metadata": {},
     "output_type": "display_data"
    },
    {
     "data": {
      "application/vnd.jupyter.widget-view+json": {
       "model_id": "13f5c0d5258845909c0246a06cf7b863",
       "version_major": 2,
       "version_minor": 0
      },
      "text/plain": [
       "  0%|          | 0/97 [00:00<?, ?it/s]"
      ]
     },
     "metadata": {},
     "output_type": "display_data"
    },
    {
     "data": {
      "application/vnd.jupyter.widget-view+json": {
       "model_id": "455804e54b91482eabe9b0f8db533b00",
       "version_major": 2,
       "version_minor": 0
      },
      "text/plain": [
       "  0%|          | 0/44 [00:00<?, ?it/s]"
      ]
     },
     "metadata": {},
     "output_type": "display_data"
    }
   ],
   "source": [
    "start = (\n",
    "    pd.Timestamp.today().date() - pd.Timedelta(\"30D\")\n",
    "    - pd.offsets.MonthBegin(1)\n",
    ")\n",
    "activities = self.get_activities(start=start, end=pd.Timestamp.today())\n",
    "positions = self.load_fits(activities.loc[\n",
    "    activities['activityType.typeKey'] == 'rowing'\n",
    "].activityId)\n",
    "\n",
    "best_times = garmin.find_best_times(positions, activities)\n",
    "\n",
    "for month, month_best in best_times.groupby(\n",
    "    pd.Grouper(axis=1, level='time', freq='M'), axis=1\n",
    "):\n",
    "    if not month_best.empty:\n",
    "        gspread_df = utils.format_gsheet(\n",
    "            month_best.loc[\n",
    "                month_best.notna().any(1), \n",
    "                month_best.notna().any(0), \n",
    "            ].sort_index(axis=1, ascending=False)\n",
    "        )\n",
    "        utils.to_gspread(\n",
    "            gspread_df.T, spread, month.strftime(\"best times %Y-%m\")\n",
    "        )\n"
   ]
  },
  {
   "cell_type": "code",
   "execution_count": 17,
   "metadata": {},
   "outputs": [
    {
     "data": {
      "text/plain": [
       "time\n",
       "2022-08-31    66\n",
       "Freq: M, dtype: int64"
      ]
     },
     "execution_count": 17,
     "metadata": {},
     "output_type": "execute_result"
    }
   ],
   "source": [
    "best_times.groupby(\n",
    "    pd.Grouper(axis=1, level='time', freq='M'), axis=1\n",
    ").size()"
   ]
  },
  {
   "cell_type": "code",
   "execution_count": 7,
   "metadata": {},
   "outputs": [
    {
     "data": {
      "application/vnd.jupyter.widget-view+json": {
       "model_id": "fbb9c41ce0c94cadb77809ff7e31c0eb",
       "version_major": 2,
       "version_minor": 0
      },
      "text/plain": [
       "  0%|          | 0/2001 [00:00<?, ?it/s]"
      ]
     },
     "metadata": {},
     "output_type": "display_data"
    },
    {
     "name": "stderr",
     "output_type": "stream",
     "text": [
      "/mnt/c/Users/matthew/Dropbox/PC/Documents/Source/rowing/rowing/analysis/garmin.py:120: PerformanceWarning: DataFrame is highly fragmented.  This is usually the result of calling `frame.insert` many times, which has poor performance.  Consider joining all columns at once using pd.concat(axis=1) instead. To get a de-fragmented frame, use `newframe = frame.copy()`\n",
      "  activities['time'] = pd.to_datetime(activities.startTimeLocal)\n"
     ]
    },
    {
     "data": {
      "application/vnd.jupyter.widget-view+json": {
       "model_id": "4b2537b4379f419a9227c592b5afcae8",
       "version_major": 2,
       "version_minor": 0
      },
      "text/plain": [
       "  0%|          | 0/1738 [00:00<?, ?it/s]"
      ]
     },
     "metadata": {},
     "output_type": "display_data"
    }
   ],
   "source": [
    "activities = self.get_activities(period=\"2000D\")\n",
    "positions = self.load_fits(activities.loc[\n",
    "    activities['activityType.typeKey'] == 'rowing'\n",
    "].activityId)"
   ]
  },
  {
   "cell_type": "code",
   "execution_count": 124,
   "metadata": {},
   "outputs": [
    {
     "data": {
      "application/vnd.jupyter.widget-view+json": {
       "model_id": "8056c90994564bb8ba51408073ed6e2a",
       "version_major": 2,
       "version_minor": 0
      },
      "text/plain": [
       "  0%|          | 0/2758 [00:00<?, ?it/s]"
      ]
     },
     "metadata": {},
     "output_type": "display_data"
    }
   ],
   "source": [
    "weather_data, errors = utils.map_concurrent(\n",
    "    self.get_weather,  \n",
    "    dict(zip(activities.activityId, activities.activityId)), \n",
    "    singleton=True\n",
    ")\n",
    "weather = pd.DataFrame.from_dict(weather_data, orient='index')"
   ]
  },
  {
   "cell_type": "code",
   "execution_count": 40,
   "metadata": {},
   "outputs": [
    {
     "data": {
      "application/vnd.jupyter.widget-view+json": {
       "model_id": "05904a57c0b74acfa77a169568d0bcc7",
       "version_major": 2,
       "version_minor": 0
      },
      "text/plain": [
       "  0%|          | 0/1717 [00:00<?, ?it/s]"
      ]
     },
     "metadata": {},
     "output_type": "display_data"
    }
   ],
   "source": [
    "stats, errors = utils.map_concurrent(\n",
    "    self.get_stats, \n",
    "    list(pd.date_range(\"2018-01-01\", \"2022-09-13\")), \n",
    "    singleton=True\n",
    ")\n",
    "year_stats = pd.DataFrame.from_records(stats).set_index(\"calendarDate\").sort_index(ascending=False)\n",
    "\n",
    "utils.to_gspread(\n",
    "    year_stats, spread, \"garmin stats\"\n",
    ")"
   ]
  },
  {
   "cell_type": "code",
   "execution_count": 8,
   "metadata": {},
   "outputs": [
    {
     "data": {
      "application/vnd.jupyter.widget-view+json": {
       "model_id": "de392b8caeba40ce80df88efdde76fc3",
       "version_major": 2,
       "version_minor": 0
      },
      "text/plain": [
       "  0%|          | 0/1738 [00:00<?, ?it/s]"
      ]
     },
     "metadata": {},
     "output_type": "display_data"
    }
   ],
   "source": [
    "best_times = garmin.find_best_times(positions, activities)"
   ]
  },
  {
   "cell_type": "code",
   "execution_count": 7,
   "metadata": {},
   "outputs": [
    {
     "data": {
      "application/vnd.jupyter.widget-view+json": {
       "model_id": "f3b7129b6a1b43ebb0aa4f50d1ee8d68",
       "version_major": 2,
       "version_minor": 0
      },
      "text/plain": [
       "  0%|          | 0/61 [00:00<?, ?it/s]"
      ]
     },
     "metadata": {},
     "output_type": "display_data"
    },
    {
     "data": {
      "application/vnd.jupyter.widget-view+json": {
       "model_id": "ab46a4ed6b29405890a8f85ee266d3f7",
       "version_major": 2,
       "version_minor": 0
      },
      "text/plain": [
       "  0%|          | 0/119 [00:00<?, ?it/s]"
      ]
     },
     "metadata": {},
     "output_type": "display_data"
    },
    {
     "data": {
      "application/vnd.jupyter.widget-view+json": {
       "model_id": "1f92232b838449ebb1f6dd984b1f47ff",
       "version_major": 2,
       "version_minor": 0
      },
      "text/plain": [
       "  0%|          | 0/61 [00:00<?, ?it/s]"
      ]
     },
     "metadata": {},
     "output_type": "display_data"
    }
   ],
   "source": [
    "for month, month_best in best_times.groupby(\n",
    "    pd.Grouper(axis=1, level='time', freq='M'), axis=1\n",
    "):\n",
    "    if not month_best.empty:\n",
    "        gspread_df = utils.format_gsheet(\n",
    "            month_best.loc[\n",
    "                month_best.notna().any(1), \n",
    "                month_best.notna().any(0), \n",
    "            ].sort_index(axis=1, ascending=False)\n",
    "        )\n",
    "        utils.to_gspread(\n",
    "            gspread_df.T, spread, month.strftime(\"best times %Y-%m\")\n",
    "        )\n"
   ]
  }
 ],
 "metadata": {
  "kernelspec": {
   "display_name": "Python 3.8.10 ('gps')",
   "language": "python",
   "name": "python3"
  },
  "language_info": {
   "codemirror_mode": {
    "name": "ipython",
    "version": 3
   },
   "file_extension": ".py",
   "mimetype": "text/x-python",
   "name": "python",
   "nbconvert_exporter": "python",
   "pygments_lexer": "ipython3",
   "version": "3.8.10"
  },
  "orig_nbformat": 4,
  "vscode": {
   "interpreter": {
    "hash": "32f7cc45a79804af014bc3bdb833a4051cf20af536606597e64d1e435614e87c"
   }
  }
 },
 "nbformat": 4,
 "nbformat_minor": 2
}
